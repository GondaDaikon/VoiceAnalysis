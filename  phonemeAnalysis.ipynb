{
 "metadata": {
  "language_info": {
   "codemirror_mode": {
    "name": "ipython",
    "version": 3
   },
   "file_extension": ".py",
   "mimetype": "text/x-python",
   "name": "python",
   "nbconvert_exporter": "python",
   "pygments_lexer": "ipython3",
   "version": "3.6.12-final"
  },
  "orig_nbformat": 2,
  "kernelspec": {
   "name": "python3",
   "display_name": "Python 3",
   "language": "python"
  }
 },
 "nbformat": 4,
 "nbformat_minor": 2,
 "cells": [
  {
   "cell_type": "code",
   "execution_count": 4,
   "metadata": {},
   "outputs": [],
   "source": [
    "import matplotlib.pyplot as plt\n",
    "import numpy as np\n",
    "import scipy\n",
    "import IPython\n",
    "import librosa\n",
    "import librosa.display\n",
    "\n",
    "from surfboard.sound import Waveform"
   ]
  },
  {
   "source": [
    "findPhone = [\"ts\", \"u\"]\n",
    "print(\"findPhone : \" + str(findPhone))\n",
    "for index in range(1, 503):\n",
    "    # Path set\n",
    "    loadnumber = str(index)\n",
    "    Path = \"/mnt/d/Document/Resarch/corpus/MHT8kHz/MHT8kHz/\"\n",
    "    wavname = Path + \"WAV8kHz/\" + loadnumber + \".wav\"\n",
    "    labname = Path + \"Julius_label/\" + loadnumber + \".lab\"\n",
    "    # load wav file\n",
    "    sr = 8000\n",
    "    y, sr = librosa.load(wavname, sr=sr, mono=True)\n",
    "    # load lab file\n",
    "    label_ori = open(labname, 'r')\n",
    "    label_list = label_ori.readlines()\n",
    "    label_ori.close()\n",
    "    label_list = list(map(lambda x:x.strip(),label_list))\n",
    "    # label separate\n",
    "    labels = []     # labels[[iterator][[開始時間(sec),終了時間(sec),音韻]]\n",
    "    for phoneme in label_list:\n",
    "        label = phoneme.split(' ')\n",
    "        labels.append(label)\n",
    "    # Foumant \n",
    "    for iterator in range(len(labels)):\n",
    "        if labels[iterator][2] == \"silB\" or labels[iterator][2] == \"sp\":\n",
    "            if labels[iterator+1][2] ==  findPhone[0]:\n",
    "                if labels[iterator+2][2] ==  findPhone[1]:\n",
    "                    print(\"load_waveFile_index : \" + loadnumber)\n",
    "                    offset = float(labels[iterator][0])\n",
    "                    duration = (float(labels[iterator][1]) - float(labels[iterator][0]))/3\n",
    "                    end = float(labels[iterator][1]) - duration\n",
    "                    y_a, sr_a = \\\n",
    "                        librosa.load(wavname, sr=sr, mono=True, offset=offset,duration=duration)\n",
    "                    y_b, sr_b = \\\n",
    "                        librosa.load(wavname, sr=sr, mono=True, offset=end, duration=duration)\n",
    "                    try:\n",
    "                        wave_y_a = Waveform(signal=y_a, sample_rate=sr_a)\n",
    "                        wave_y_b = Waveform(signal=y_b, sample_rate=sr_b)\n",
    "                        formants_y_a = wave_y_a.formants()\n",
    "                        formants_y_b = wave_y_b.formants()\n",
    "                        print(str(offset) +\" ~ \"+ str(duration) +\" ~ \"+ str(offset+duration))\n",
    "                        print(str(end) +\" ~ \"+ str(duration) +\" ~ \"+ str(end+duration))\n",
    "                        print(formants_y_a)\n",
    "                        print(formants_y_b)\n",
    "                    except:\n",
    "                        print(\"!not found Foumants!\")\n",
    "                        pass"
   ],
   "cell_type": "code",
   "metadata": {},
   "execution_count": 29,
   "outputs": [
    {
     "output_type": "stream",
     "name": "stdout",
     "text": [
      "findPhone : ['ts', 'u']\n",
      "load_waveFile_index : 57\n",
      "!not found Foumants!\n",
      "load_waveFile_index : 141\n",
      "!not found Foumants!\n",
      "load_waveFile_index : 152\n",
      "!not found Foumants!\n",
      "load_waveFile_index : 180\n",
      "2.7825 ~ 0.10999999999999988 ~ 2.8925\n",
      "3.0025 ~ 0.10999999999999988 ~ 3.1125\n",
      "{'f1': 949.4187967993003, 'f2': 1707.792903749124, 'f3': 2724.238594139914, 'f4': 3294.8203644468385}\n",
      "{'f1': 1145.4447720983665, 'f2': 2061.5670035589515, 'f3': 2749.990520732957, 'f4': 3392.171991424012}\n",
      "load_waveFile_index : 222\n",
      "!not found Foumants!\n",
      "load_waveFile_index : 257\n",
      "!not found Foumants!\n",
      "load_waveFile_index : 257\n",
      "4.2825 ~ 0.03333333333333351 ~ 4.315833333333333\n",
      "4.349166666666667 ~ 0.03333333333333351 ~ 4.3825\n",
      "{'f1': 979.2195145118659, 'f2': 1931.3968061435303, 'f3': 2738.201834079908, 'f4': 3232.240234449298}\n",
      "{'f1': 1584.0938515420046, 'f2': 2511.032818452151, 'f3': 3202.5341113332206, 'f4': 4000.0}\n",
      "load_waveFile_index : 337\n",
      "!not found Foumants!\n",
      "load_waveFile_index : 342\n",
      "7.4925 ~ 0.13666666666666671 ~ 7.629166666666666\n",
      "7.765833333333333 ~ 0.13666666666666671 ~ 7.9025\n",
      "{'f1': 1355.6741921417672, 'f2': 1841.1942978992286, 'f3': 2665.743129142516, 'f4': 3260.9686912354236}\n",
      "{'f1': 1090.179024454246, 'f2': 1979.7000418197665, 'f3': 2650.345217139882, 'f4': 3288.8267883438602}\n",
      "load_waveFile_index : 371\n",
      "!not found Foumants!\n",
      "load_waveFile_index : 376\n",
      "!not found Foumants!\n",
      "load_waveFile_index : 490\n",
      "!not found Foumants!\n",
      "load_waveFile_index : 501\n",
      "!not found Foumants!\n"
     ]
    }
   ]
  },
  {
   "cell_type": "code",
   "execution_count": 14,
   "metadata": {},
   "outputs": [
    {
     "output_type": "execute_result",
     "data": {
      "text/plain": [
       "'silB'"
      ]
     },
     "metadata": {},
     "execution_count": 14
    }
   ],
   "source": [
    "labels[0][2]\n"
   ]
  }
 ]
}